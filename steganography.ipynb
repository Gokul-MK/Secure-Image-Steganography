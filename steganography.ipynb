{
  "nbformat": 4,
  "nbformat_minor": 0,
  "metadata": {
    "colab": {
      "provenance": [],
      "authorship_tag": "ABX9TyP2J4i1kA/5gWXKChwjObIY",
      "include_colab_link": true
    },
    "kernelspec": {
      "name": "python3",
      "display_name": "Python 3"
    },
    "language_info": {
      "name": "python"
    }
  },
  "cells": [
    {
      "cell_type": "markdown",
      "metadata": {
        "id": "view-in-github",
        "colab_type": "text"
      },
      "source": [
        "<a href=\"https://colab.research.google.com/github/Gokul-MK/Secure-Image-Steganography/blob/main/steganography.ipynb\" target=\"_parent\"><img src=\"https://colab.research.google.com/assets/colab-badge.svg\" alt=\"Open In Colab\"/></a>"
      ]
    },
    {
      "cell_type": "code",
      "execution_count": null,
      "metadata": {
        "colab": {
          "base_uri": "https://localhost:8080/"
        },
        "id": "Db_J_z7vS5AR",
        "outputId": "097ccce9-2cc4-441a-e689-c92c28f1765b"
      },
      "outputs": [
        {
          "output_type": "stream",
          "name": "stdout",
          "text": [
            "Requirement already satisfied: opencv-python in /usr/local/lib/python3.11/dist-packages (4.11.0.86)\n",
            "Requirement already satisfied: numpy in /usr/local/lib/python3.11/dist-packages (1.26.4)\n",
            "Requirement already satisfied: cryptography in /usr/local/lib/python3.11/dist-packages (43.0.3)\n",
            "Requirement already satisfied: pillow in /usr/local/lib/python3.11/dist-packages (11.1.0)\n",
            "Requirement already satisfied: cffi>=1.12 in /usr/local/lib/python3.11/dist-packages (from cryptography) (1.17.1)\n",
            "Requirement already satisfied: pycparser in /usr/local/lib/python3.11/dist-packages (from cffi>=1.12->cryptography) (2.22)\n"
          ]
        }
      ],
      "source": [
        "!pip install opencv-python numpy cryptography pillow"
      ]
    },
    {
      "cell_type": "code",
      "source": [
        "from google.colab.patches import cv2_imshow"
      ],
      "metadata": {
        "id": "6NH82KBmVG8M"
      },
      "execution_count": null,
      "outputs": []
    },
    {
      "cell_type": "markdown",
      "source": [
        "For example, here we download and display a PNG image of the Colab logo:"
      ],
      "metadata": {
        "id": "yqpcZH9pVG8N"
      }
    },
    {
      "cell_type": "code",
      "source": [
        "!curl -o logo.png https://colab.research.google.com/img/colab_favicon_256px.png\n",
        "import cv2\n",
        "img = cv2.imread('logo.png', cv2.IMREAD_UNCHANGED)\n",
        "cv2_imshow(img)"
      ],
      "metadata": {
        "colab": {
          "base_uri": "https://localhost:8080/",
          "height": 329
        },
        "id": "a7VUycueVG8N",
        "outputId": "d8bb8b52-ed53-45b3-aa1b-7bd5b4983bc4"
      },
      "execution_count": null,
      "outputs": [
        {
          "output_type": "stream",
          "name": "stdout",
          "text": [
            "  % Total    % Received % Xferd  Average Speed   Time    Time     Time  Current\n",
            "                                 Dload  Upload   Total   Spent    Left  Speed\n",
            "\r  0     0    0     0    0     0      0      0 --:--:-- --:--:-- --:--:--     0\r100  4534  100  4534    0     0  36131      0 --:--:-- --:--:-- --:--:-- 36272\n"
          ]
        },
        {
          "output_type": "display_data",
          "data": {
            "text/plain": [
              "<PIL.Image.Image image mode=RGBA size=260x260>"
            ],
            "image/png": "[encoded data removed]"
          },
          "metadata": {}
        }
      ]
    },
    {
      "cell_type": "code",
      "source": [
        "# Download a sample image (Colab-compatible)\n",
        "!curl -o cover_image.png https://colab.research.google.com/img/colab_favicon_256px.png\n",
        "\n",
        "# Import necessary libraries\n",
        "import cv2\n",
        "import numpy as np\n",
        "from google.colab.patches import cv2_imshow  # Required for Colab\n",
        "\n",
        "# Function to load and display an image\n",
        "def load_and_display_image(image_path):\n",
        "    image = cv2.imread(image_path, cv2.IMREAD_UNCHANGED)  # Load image\n",
        "    cv2_imshow(image)  # Display image (Colab-compatible)\n",
        "    return image\n",
        "\n",
        "# Load and show cover image\n",
        "cover_image = load_and_display_image(\"cover_image.png\")\n"
      ],
      "metadata": {
        "colab": {
          "base_uri": "https://localhost:8080/",
          "height": 329
        },
        "id": "8wycKcxTVsZp",
        "outputId": "5f801fc0-b214-45d6-c324-34914fde12de"
      },
      "execution_count": null,
      "outputs": [
        {
          "output_type": "stream",
          "name": "stdout",
          "text": [
            "  % Total    % Received % Xferd  Average Speed   Time    Time     Time  Current\n",
            "                                 Dload  Upload   Total   Spent    Left  Speed\n",
            "\r  0     0    0     0    0     0      0      0 --:--:-- --:--:-- --:--:--     0\r100  4534  100  4534    0     0  44847      0 --:--:-- --:--:-- --:--:-- 44891\n"
          ]
        },
        {
          "output_type": "display_data",
          "data": {
            "text/plain": [
              "<PIL.Image.Image image mode=RGBA size=260x260>"
            ],
            "image/png": "[encoded data removed]"
          },
          "metadata": {}
        }
      ]
    },
    {
      "cell_type": "code",
      "source": [
        "from cryptography.fernet import Fernet\n",
        "\n",
        "# Generate a key for encryption\n",
        "key = Fernet.generate_key()\n",
        "cipher_suite = Fernet(key)\n",
        "\n",
        "# Function to encrypt data\n",
        "def encrypt_data(data):\n",
        "    encrypted_data = cipher_suite.encrypt(data.encode())  # Encrypt the message\n",
        "    return encrypted_data\n",
        "\n",
        "# Function to decrypt data\n",
        "def decrypt_data(encrypted_data):\n",
        "    decrypted_data = cipher_suite.decrypt(encrypted_data).decode()  # Decrypt back to text\n",
        "    return decrypted_data\n",
        "\n",
        "# Example secret message\n",
        "secret_message = \"This is a secret!\"\n",
        "\n",
        "# Encrypt the message\n",
        "encrypted_message = encrypt_data(secret_message)\n",
        "print(\"🔒 Encrypted Message:\", encrypted_message)\n"
      ],
      "metadata": {
        "colab": {
          "base_uri": "https://localhost:8080/"
        },
        "id": "sdZzbvaUVw-H",
        "outputId": "e6ee50b6-7cfd-4ff2-e471-87a03d30b1c8"
      },
      "execution_count": null,
      "outputs": [
        {
          "output_type": "stream",
          "name": "stdout",
          "text": [
            "🔒 Encrypted Message: b'gAAAAABnvch7flOS2QfXR4Q5oC2iQRt9Un649iiDbe3dVSWf1is5j-Po6eHp-vMTHuzc4B-Z9N4Z-o-2cQhFCdsLRSc-29IiZCHad7v77KDEHWgaTjzVLuk='\n"
          ]
        }
      ]
    },
    {
      "cell_type": "code",
      "source": [
        "def encode_image(image, data):\n",
        "    # Convert encrypted data to binary\n",
        "    binary_data = ''.join(format(byte, '08b') for byte in data)\n",
        "    data_len = len(binary_data)\n",
        "\n",
        "    # Flatten the image array\n",
        "    flat_image = image.flatten()\n",
        "\n",
        "    # Ensure the image can hold the data\n",
        "    if data_len > len(flat_image):\n",
        "        raise ValueError(\"Data is too large to hide in the image.\")\n",
        "\n",
        "    # Modify LSBs of image pixels\n",
        "    for i in range(data_len):\n",
        "        flat_image[i] = (flat_image[i] & ~1) | int(binary_data[i])  # Modify LSB\n",
        "\n",
        "    # Reshape the modified image back\n",
        "    encoded_image = flat_image.reshape(image.shape)\n",
        "    return encoded_image\n",
        "\n",
        "# Encode the encrypted message in the image\n",
        "stego_image = encode_image(cover_image, encrypted_message)\n",
        "\n",
        "# Save the stego image\n",
        "cv2.imwrite(\"stego_image.png\", stego_image)\n",
        "print(\"✅ Secret message hidden successfully!\")\n"
      ],
      "metadata": {
        "colab": {
          "base_uri": "https://localhost:8080/"
        },
        "id": "ThUgkQcRV0Gh",
        "outputId": "b6f6f298-62e8-4155-afba-67e1665b4dd1"
      },
      "execution_count": null,
      "outputs": [
        {
          "output_type": "stream",
          "name": "stdout",
          "text": [
            "✅ Secret message hidden successfully!\n"
          ]
        }
      ]
    },
    {
      "cell_type": "code",
      "source": [
        "def decode_image(image, data_length):\n",
        "    flat_image = image.flatten()\n",
        "\n",
        "    # Extract LSBs to reconstruct binary data\n",
        "    binary_data = ''.join(str(flat_image[i] & 1) for i in range(data_length * 8))\n",
        "\n",
        "    # Convert binary to bytes\n",
        "    extracted_bytes = bytearray(int(binary_data[i:i+8], 2) for i in range(0, len(binary_data), 8))\n",
        "\n",
        "    return extracted_bytes\n",
        "\n",
        "# Extract the hidden message from the stego image\n",
        "extracted_data = decode_image(stego_image, len(encrypted_message))\n",
        "\n",
        "# Decrypt the extracted message\n",
        "# Convert bytearray to bytes before decrypting\n",
        "decrypted_message = decrypt_data(bytes(extracted_data))\n",
        "\n",
        "print(\"🔓 Decrypted Message:\", decrypted_message)\n",
        "\n"
      ],
      "metadata": {
        "colab": {
          "base_uri": "https://localhost:8080/"
        },
        "id": "RLjCP0_dV-GC",
        "outputId": "6c9170d8-13ed-44d7-8364-7f3e812731aa"
      },
      "execution_count": null,
      "outputs": [
        {
          "output_type": "stream",
          "name": "stdout",
          "text": [
            "🔓 Decrypted Message: This is a secret!\n"
          ]
        }
      ]
    },
    {
      "cell_type": "code",
      "source": [
        "import cv2\n",
        "from google.colab.patches import cv2_imshow  # Required for Colab\n",
        "\n",
        "# Load and display the original image\n",
        "cover_image = cv2.imread(\"cover_image.png\", cv2.IMREAD_UNCHANGED)\n",
        "cv2_imshow(cover_image)  # Displays the original image\n"
      ],
      "metadata": {
        "colab": {
          "base_uri": "https://localhost:8080/",
          "height": 277
        },
        "id": "DzCH50-DYMXE",
        "outputId": "0f0d0cf7-f19c-4a21-e312-d60a235de901"
      },
      "execution_count": null,
      "outputs": [
        {
          "output_type": "display_data",
          "data": {
            "text/plain": [
              "<PIL.Image.Image image mode=RGBA size=260x260>"
            ],
            "image/png": "[encoded data removed]"
          },
          "metadata": {}
        }
      ]
    },
    {
      "cell_type": "code",
      "source": [
        "# Encode the secret message into the image\n",
        "stego_image = encode_image(cover_image, encrypted_message)\n",
        "\n",
        "# Save and display the stego image\n",
        "cv2.imwrite(\"stego_image.png\", stego_image)\n",
        "cv2_imshow(stego_image)  # Displays the modified image with hidden data\n"
      ],
      "metadata": {
        "colab": {
          "base_uri": "https://localhost:8080/",
          "height": 277
        },
        "id": "y9EzKwqsYY5X",
        "outputId": "0b156584-8ba1-4b94-9244-9b50416ab036"
      },
      "execution_count": null,
      "outputs": [
        {
          "output_type": "display_data",
          "data": {
            "text/plain": [
              "<PIL.Image.Image image mode=RGBA size=260x260>"
            ],
            "image/png": "[encoded data removed]"
          },
          "metadata": {}
        }
      ]
    },
    {
      "cell_type": "code",
      "source": [
        "# Extract the hidden data from the stego image\n",
        "extracted_data = decode_image(stego_image, len(encrypted_message))\n",
        "\n",
        "# Convert bytearray to bytes before decrypting\n",
        "decrypted_message = decrypt_data(bytes(extracted_data))\n",
        "\n",
        "print(\"🔓 Decrypted Message:\", decrypted_message)\n"
      ],
      "metadata": {
        "colab": {
          "base_uri": "https://localhost:8080/"
        },
        "id": "EGBF9vx-Ye03",
        "outputId": "58003028-bdc8-4b0f-c590-87ae25351b9a"
      },
      "execution_count": null,
      "outputs": [
        {
          "output_type": "stream",
          "name": "stdout",
          "text": [
            "🔓 Decrypted Message: This is a secret!\n"
          ]
        }
      ]
    }
  ]
}